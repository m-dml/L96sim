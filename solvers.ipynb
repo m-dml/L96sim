{
 "cells": [
  {
   "cell_type": "code",
   "execution_count": null,
   "metadata": {},
   "outputs": [],
   "source": [
    "%load_ext autoreload\n",
    "%autoreload 2"
   ]
  },
  {
   "cell_type": "code",
   "execution_count": null,
   "metadata": {},
   "outputs": [],
   "source": [
    "import numpy as np\n",
    "import time\n",
    "from L96sim import L96\n",
    "import matplotlib.pyplot as plt\n",
    "\n",
    "seed = 42"
   ]
  },
  {
   "cell_type": "markdown",
   "metadata": {},
   "source": [
    "# define simulation setup"
   ]
  },
  {
   "cell_type": "code",
   "execution_count": null,
   "metadata": {},
   "outputs": [],
   "source": [
    "K, J, dt = 36, 10, 0.001\n",
    "\n",
    "# observation points k, t\n",
    "obs_X_grid = np.arange(0, K, 1)  # currently observe ALL X_i !\n",
    "K_obs = len(obs_X_grid)\n",
    "obs_times = np.arange(1., 11., 100 * dt)   # simulate [0, 2] and use [1, 2] as summary stats (first sec 'burn-in')\n",
    "obs_nsteps = len(obs_times)"
   ]
  },
  {
   "cell_type": "code",
   "execution_count": null,
   "metadata": {},
   "outputs": [],
   "source": [
    "sim = L96.L96OneSim(K=K, obs_X=obs_X_grid,  obs_times=obs_times)\n",
    "d = sim.gen_single(np.array([8.0]), use_julia=False)\n",
    "d['data'].shape"
   ]
  },
  {
   "cell_type": "code",
   "execution_count": null,
   "metadata": {},
   "outputs": [],
   "source": [
    "sim = L96.L96TwoSim(K=K, J=J, dt=dt, obs_X=obs_X_grid, obs_times=obs_times, seed=seed)"
   ]
  },
  {
   "cell_type": "markdown",
   "metadata": {},
   "source": [
    "# set parameters"
   ]
  },
  {
   "cell_type": "code",
   "execution_count": null,
   "metadata": {
    "scrolled": false
   },
   "outputs": [],
   "source": [
    "pars = np.array([10, 1, 10, np.log(10)]) # (F, h, b, log c)"
   ]
  },
  {
   "cell_type": "markdown",
   "metadata": {},
   "source": [
    "## test and compare different solvers"
   ]
  },
  {
   "cell_type": "markdown",
   "metadata": {},
   "source": [
    "### Do dummy runs to invoke any final compilation, so that subsequent timing measurements are accurate"
   ]
  },
  {
   "cell_type": "code",
   "execution_count": null,
   "metadata": {},
   "outputs": [],
   "source": [
    "d_julia_dummy = sim.gen_single(pars)\n",
    "d_numba_dummy = sim.gen_single(pars, use_juliadef=False)"
   ]
  },
  {
   "cell_type": "code",
   "execution_count": null,
   "metadata": {},
   "outputs": [],
   "source": [
    "# pure julia\n",
    "t0 = time.time()\n",
    "d_julia = sim.gen_single(pars)\n",
    "t_julia = time.time() - t0\n",
    "\n",
    "# julia solver, numba/python derivatives\n",
    "t0 = time.time()\n",
    "d_numba = sim.gen_single(pars, use_juliadef=False)\n",
    "t_numba = time.time() - t0\n",
    "\n",
    "# scipy solver, numba/python derivatives\n",
    "t0 = time.time()\n",
    "d_scipy = sim.gen_single(pars, use_julia=False)\n",
    "t_scipy = time.time() - t0"
   ]
  },
  {
   "cell_type": "code",
   "execution_count": null,
   "metadata": {},
   "outputs": [],
   "source": [
    "for d,t,n in zip([d_julia, d_numba, d_scipy], \n",
    "                 [t_julia, t_numba, t_scipy],\n",
    "                 ['julia code', 'julia solver', 'scipy solver']):\n",
    "\n",
    "    X = d['data'][0].reshape(-1, K).T\n",
    "    Y = d['data'][1].reshape(-1, K * J).T\n",
    "\n",
    "    plt.figure()\n",
    "    plt.subplot(2,1,1)\n",
    "    plt.imshow(X,aspect=1.0)\n",
    "    plt.ylabel('X')\n",
    "    plt.title(f'{n}, {t} sec')\n",
    "    plt.subplot(2,1,2)\n",
    "    plt.imshow(Y,aspect=1/J)\n",
    "    plt.ylabel('y')\n",
    "    plt.xlabel('t')"
   ]
  }
 ],
 "metadata": {
  "kernelspec": {
   "display_name": "Python 3 (ipykernel)",
   "language": "python",
   "name": "python3"
  },
  "language_info": {
   "codemirror_mode": {
    "name": "ipython",
    "version": 3
   },
   "file_extension": ".py",
   "mimetype": "text/x-python",
   "name": "python",
   "nbconvert_exporter": "python",
   "pygments_lexer": "ipython3",
   "version": "3.8.11"
  }
 },
 "nbformat": 4,
 "nbformat_minor": 2
}
