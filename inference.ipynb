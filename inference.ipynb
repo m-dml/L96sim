{
 "cells": [
  {
   "cell_type": "code",
   "execution_count": 17,
   "metadata": {},
   "outputs": [],
   "source": [
    "import numpy as np\n",
    "import time\n",
    "import delfi\n",
    "import L96\n",
    "from delfi.summarystats import Identity\n",
    "import delfi.generator\n",
    "\n",
    "import delfi.inference\n",
    "\n",
    "import matplotlib.pyplot as plt\n",
    "\n",
    "from L96_summary import Summary_Schneider2017, Summary_convstats\n",
    "\n",
    "from util import plot_hist_marginals\n",
    "\n",
    "seed = 42"
   ]
  },
  {
   "cell_type": "markdown",
   "metadata": {},
   "source": [
    "# define simulation setup"
   ]
  },
  {
   "cell_type": "code",
   "execution_count": 2,
   "metadata": {},
   "outputs": [],
   "source": [
    "K, J, dt = 36, 10, 0.001\n",
    "\n",
    "# observation points k, t\n",
    "obs_X_grid = np.arange(0, K, 1)  # currently observe ALL X_i !\n",
    "K_obs = len(obs_X_grid)\n",
    "obs_times = np.arange(1., 11., 100 * dt)   # simulate [0, 2] and use [1, 2] as summary stats (first sec 'burn-in')\n",
    "obs_nsteps = len(obs_times)"
   ]
  },
  {
   "cell_type": "code",
   "execution_count": 3,
   "metadata": {},
   "outputs": [],
   "source": [
    "sim = L96.L96TwoSim(K=K, J=J, dt=dt, obs_X=obs_X_grid, obs_times=obs_times, seed=seed)"
   ]
  },
  {
   "cell_type": "markdown",
   "metadata": {},
   "source": [
    "# define paramter prior"
   ]
  },
  {
   "cell_type": "code",
   "execution_count": 4,
   "metadata": {},
   "outputs": [],
   "source": [
    "# define prior over (F, h, b, log c)\n",
    "prior = delfi.distribution.Gaussian(m=np.array([10.,0.,5.,2,]), S=np.diag([10.,1.,10.,0.1]), seed=seed+1)"
   ]
  },
  {
   "cell_type": "markdown",
   "metadata": {},
   "source": [
    "# define summary features"
   ]
  },
  {
   "cell_type": "code",
   "execution_count": 5,
   "metadata": {},
   "outputs": [],
   "source": [
    "summary = Summary_Schneider2017(K=K, J=J)"
   ]
  },
  {
   "cell_type": "markdown",
   "metadata": {},
   "source": [
    "# define ground truth parameters"
   ]
  },
  {
   "cell_type": "code",
   "execution_count": 10,
   "metadata": {
    "scrolled": false
   },
   "outputs": [],
   "source": [
    "# parameters for testing and 'data' simulations\n",
    "pars_true = np.array([10, 1, 10, np.log(10)]) # (F, h, b, log c)\n",
    "pars_alt  = np.array([ 5, 1, 10, np.log(10)]) # for comparison\n",
    "obs_stats = summary.calc(sim.gen([pars_true])[0])"
   ]
  },
  {
   "cell_type": "markdown",
   "metadata": {},
   "source": [
    "# set up data generation"
   ]
  },
  {
   "cell_type": "code",
   "execution_count": null,
   "metadata": {},
   "outputs": [],
   "source": [
    "# generator object (prior, simulator, summary statistics)\n",
    "def notnan(x): # rejecting simulations with NaN (just as insurance)\n",
    "    return np.all(np.isfinite(x))    \n",
    "    \n",
    "g = delfi.generator.RejKernel(model = sim, prior=prior, \n",
    "                              summary = summary, \n",
    "                              rej=notnan)\n",
    "\n",
    "# test run on a range of different parameters\n",
    "params, stats = g.gen(8)\n",
    "params.shape, stats.shape"
   ]
  },
  {
   "cell_type": "markdown",
   "metadata": {},
   "source": [
    "# set SNPE options"
   ]
  },
  {
   "cell_type": "code",
   "execution_count": null,
   "metadata": {},
   "outputs": [],
   "source": [
    "# simulation setup\n",
    "setup_opts = {\n",
    "    'density': 'maf',\n",
    "    'n_hiddens': [50, 50],\n",
    "    'n_mades' : 5,     \n",
    "    'verbose': True,\n",
    "    'prior_norm': False,    \n",
    "    'svi': False,\n",
    "    'pilot_samples' : 1000 # will be overwritten if useCNN == True\n",
    "}\n",
    "\n",
    "run_opts = {\n",
    "    'n_train': 5000,\n",
    "    'n_rounds': 2,\n",
    "    'minibatch': 100,\n",
    "    'epochs': 2000,\n",
    "    'proposal': 'atomic',\n",
    "    'max_norm': 0.1,\n",
    "    'val_frac': 0.1,\n",
    "    'silent_fail': False,\n",
    "}"
   ]
  },
  {
   "cell_type": "markdown",
   "metadata": {},
   "source": [
    "# Run inference"
   ]
  },
  {
   "cell_type": "code",
   "execution_count": null,
   "metadata": {},
   "outputs": [],
   "source": [
    "res = delfi.inference.SNPEC(g, obs=obs_stats, seed=seed+2, **setup_opts)"
   ]
  },
  {
   "cell_type": "code",
   "execution_count": null,
   "metadata": {},
   "outputs": [],
   "source": [
    "logs, trn_datasets, posteriors = res.run(**run_opts, verbose=True)"
   ]
  },
  {
   "cell_type": "markdown",
   "metadata": {},
   "source": [
    "# Plot training curves"
   ]
  },
  {
   "cell_type": "code",
   "execution_count": null,
   "metadata": {},
   "outputs": [],
   "source": [
    "plt.figure()\n",
    "plt.plot(logs[0]['loss'])\n",
    "plt.show()\n",
    "\n",
    "plt.figure()\n",
    "plt.plot(logs[1]['loss'])\n",
    "plt.show()"
   ]
  },
  {
   "cell_type": "markdown",
   "metadata": {},
   "source": [
    "# Show inferred posterior"
   ]
  },
  {
   "cell_type": "code",
   "execution_count": null,
   "metadata": {},
   "outputs": [],
   "source": [
    "from snl.util.plot import plot_hist_marginals\n",
    "\n",
    "pars = np.array([10, 1, 10, np.log(10)])           #pars_true.copy()\n",
    "#obs =  summary.calc(sim.gen([pars])[0]) #obs_stats.copy()\n",
    "posterior = res.predict(obs_stats)\n",
    "#posterior = posteriors[-1]\n",
    "\n",
    "pu, pl = prior.mean + 3*prior.std, prior.mean - 3*prior.std\n",
    "\n",
    "pu = [20, 1.5, 15, 3]\n",
    "pl = [ 0, 0.5, -5, 1]\n",
    "\n",
    "xs = posterior.gen(3000)\n",
    "idx = np.where( (xs[:,1]<pu[1]))[0]\n",
    "xs = xs[idx,:]\n",
    "idx = np.where( (xs[:,3]<pu[3]))[0]\n",
    "xs = xs[idx,:]\n",
    "\n",
    "\n",
    "fig=plot_hist_marginals(xs, lims=[ [pl[i], pu[i]] for i in range(len(pu))], \n",
    "                        gt=pars, upper=True)\n",
    "\n",
    "\n",
    "labels=['F','h','b','log c']\n",
    "for i in range(len(pu)):\n",
    "    plt.subplot(4,4,5*i+1)\n",
    "    xgrid = np.linspace(prior.mean[i]-3*prior.std[i], prior.mean[i]+3*prior.std[i], 200)\n",
    "    plt.plot(xgrid, prior.eval(xgrid,ii=i,log=False), color=[0.4,0.4,0.4], linewidth=2)\n",
    "    plt.xlabel(labels[i], fontsize=20)\n",
    "    \n",
    "plt.subplot(4,4,1)\n",
    "plt.xticks([5, 10, 15])    \n",
    "plt.subplot(4,4,6)\n",
    "plt.xticks([ 0.5,  1, 1.5])    \n",
    "plt.subplot(4,4,11)\n",
    "plt.xticks([0, 5, 10])    \n",
    "plt.subplot(4,4,16)\n",
    "plt.xticks([1, 2, 3])    \n",
    "\n",
    "plt.subplot(4,4,4)\n",
    "plt.yticks([5, 10, 15])    \n",
    "plt.subplot(4,4,8)\n",
    "plt.yticks([ 0.5,  1, 1.5])    \n",
    "plt.subplot(4,4,12)\n",
    "plt.yticks([0, 5, 10])    \n",
    "plt.subplot(4,4,16)\n",
    "plt.yticks([1, 2, 3])    \n",
    "plt.axis([pl[-1], pu[-1], 0, 1.5])\n",
    "\n",
    "fig.set_figwidth(12)\n",
    "fig.set_figheight(12)"
   ]
  },
  {
   "cell_type": "code",
   "execution_count": null,
   "metadata": {},
   "outputs": [],
   "source": [
    "# posterior with limits\n",
    "\n",
    "pars = np.array([10, 1, 10, np.log(10)])           #pars_true.copy()\n",
    "#obs =  summary.calc(sim.gen([pars])[0]) #obs_stats.copy()\n",
    "posterior = res.predict(obs_stats)\n",
    "#posterior = posteriors[-1]\n",
    "\n",
    "pu, pl = prior.mean + 3*prior.std, prior.mean - 3*prior.std\n",
    "\n",
    "pu = [20, 1.5, 15, 3]\n",
    "pl = [ 0, 0.5, -5, 1]\n",
    "\n",
    "xs = posterior.gen(3000)\n",
    "idx = np.where( (xs[:,1]<pu[1]))[0]\n",
    "xs = xs[idx,:]\n",
    "idx = np.where( (xs[:,3]<pu[3]))[0]\n",
    "xs = xs[idx,:]\n",
    "\n",
    "\n",
    "fig=plot_hist_marginals(xs, lims=[ [pl[i], pu[i]] for i in range(len(pu))], \n",
    "                        gt=pars, upper=True)\n",
    "\n",
    "\n",
    "labels=['F','h','b','log c']\n",
    "for i in range(len(pu)):\n",
    "    plt.subplot(4,4,5*i+1)\n",
    "    xgrid = np.linspace(prior.mean[i]-3*prior.std[i], prior.mean[i]+3*prior.std[i], 200)\n",
    "    plt.plot(xgrid, prior.eval(xgrid,ii=i,log=False), color=[0.4,0.4,0.4], linewidth=2)\n",
    "    plt.xlabel(labels[i], fontsize=20)\n",
    "    \n",
    "plt.subplot(4,4,1)\n",
    "plt.xticks([5, 10, 15])    \n",
    "plt.subplot(4,4,6)\n",
    "plt.xticks([ 0.5,  1, 1.5])    \n",
    "plt.subplot(4,4,11)\n",
    "plt.xticks([0, 5, 10])    \n",
    "plt.subplot(4,4,16)\n",
    "plt.xticks([1, 2, 3])    \n",
    "\n",
    "plt.subplot(4,4,4)\n",
    "plt.yticks([5, 10, 15])    \n",
    "plt.subplot(4,4,8)\n",
    "plt.yticks([ 0.5,  1, 1.5])    \n",
    "plt.subplot(4,4,12)\n",
    "plt.yticks([0, 5, 10])    \n",
    "plt.subplot(4,4,16)\n",
    "plt.yticks([1, 2, 3])    \n",
    "plt.axis([pl[-1], pu[-1], 0, 1.5])\n",
    "\n",
    "fig.set_figwidth(12)\n",
    "fig.set_figheight(12)"
   ]
  }
 ],
 "metadata": {
  "kernelspec": {
   "display_name": "Python 3",
   "language": "python",
   "name": "python3"
  },
  "language_info": {
   "codemirror_mode": {
    "name": "ipython",
    "version": 3
   },
   "file_extension": ".py",
   "mimetype": "text/x-python",
   "name": "python",
   "nbconvert_exporter": "python",
   "pygments_lexer": "ipython3",
   "version": "3.7.4"
  }
 },
 "nbformat": 4,
 "nbformat_minor": 2
}
